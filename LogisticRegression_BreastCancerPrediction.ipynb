{
 "cells": [
  {
   "cell_type": "code",
   "execution_count": 9,
   "metadata": {
    "collapsed": true
   },
   "outputs": [],
   "source": [
    "# PROJECT: Use Wisconsin Breast Cancer dataset to implement a Linear Regression Model\n",
    "\n",
    "# Attribute Information: (class attribute has been moved to last column)\n",
    "\n",
    "   #  Attribute                     Domain\n",
    "#   -- -----------------------------------------\n",
    "#   1. Sample code number            id number\n",
    "#   2. Clump Thickness               1 - 10\n",
    "#   3. Uniformity of Cell Size       1 - 10\n",
    "#   4. Uniformity of Cell Shape      1 - 10\n",
    "#   5. Marginal Adhesion             1 - 10\n",
    "#   6. Single Epithelial Cell Size   1 - 10\n",
    "#   7. Bare Nuclei                   1 - 10\n",
    "#   8. Bland Chromatin               1 - 10\n",
    "#   9. Normal Nucleoli               1 - 10\n",
    "#  10. Mitoses                       1 - 10\n",
    "#  11. Class:                        (2 for benign, 4 for malignant)\n"
   ]
  },
  {
   "cell_type": "code",
   "execution_count": 10,
   "metadata": {
    "collapsed": true
   },
   "outputs": [],
   "source": [
    "# Import Packages  \n",
    "import itertools as it\n",
    "import pandas as pd\n",
    "import matplotlib.pyplot as plt\n",
    "import seaborn as sns\n",
    "import numpy as np\n",
    "\n",
    "from sklearn.model_selection import train_test_split\n",
    "from sklearn.linear_model import LinearRegression\n",
    "\n",
    "from sklearn import metrics\n",
    "from sklearn.metrics import confusion_matrix\n"
   ]
  },
  {
   "cell_type": "code",
   "execution_count": 11,
   "metadata": {
    "collapsed": true
   },
   "outputs": [],
   "source": [
    "# Load Dataset\n",
    "cancer_data = pd.read_csv(\"../data/breast-cancer-wisconsin.data\", header=None)\n",
    "\n",
    "#print(cancer_data.count())\n"
   ]
  },
  {
   "cell_type": "code",
   "execution_count": 12,
   "metadata": {
    "collapsed": true
   },
   "outputs": [],
   "source": [
    "# Preprocess Data\n",
    "\n",
    "# missing data in column 6 is marked with '?' these rows are removed from the dataset\n",
    "cancer_data = cancer_data[cancer_data[6] != '?']\n",
    "\n",
    "#print(cancer_data.count())\n",
    "\n",
    "# Divide data into input/output\n",
    "X = cancer_data.iloc[:,1:10]\n",
    "y = cancer_data.iloc[:,10]\n",
    "\n",
    "\n",
    "# Divide data into training/test set\n",
    "X_train, X_test, y_train, y_test = train_test_split(X, y, test_size=0.30, random_state=101)\n",
    "\n",
    "#print(X_train.count())\n",
    "#print(X_test.count())\n"
   ]
  },
  {
   "cell_type": "code",
   "execution_count": 13,
   "metadata": {},
   "outputs": [
    {
     "data": {
      "text/plain": [
       "LinearRegression(copy_X=True, fit_intercept=True, n_jobs=1, normalize=False)"
      ]
     },
     "execution_count": 13,
     "metadata": {},
     "output_type": "execute_result"
    }
   ],
   "source": [
    "# Train Model\n",
    "lm = LinearRegression()\n",
    "lm.fit(X_train, y_train)\n",
    "\n",
    "#print('Coefficients: \\n', lm.coef_)\n"
   ]
  },
  {
   "cell_type": "code",
   "execution_count": 14,
   "metadata": {
    "collapsed": true
   },
   "outputs": [],
   "source": [
    "# Test the Model\n",
    "y_pred = [int(2) if item < 3 else int(4) for item in lm.predict(X_test)]\n",
    "y_test = y_test.tolist()\n"
   ]
  },
  {
   "cell_type": "code",
   "execution_count": 15,
   "metadata": {
    "collapsed": true
   },
   "outputs": [],
   "source": [
    "# Compute Results\n",
    "\n",
    "# Compute confussion matrix\n",
    "cnf_matrix = confusion_matrix(y_test, y_pred)\n",
    "\n",
    "TN = sum([1 for i in range(len(y_test)) if y_test[i] == 2 and y_pred[i] == 2])\n",
    "TP = sum([1 for i in range(len(y_test)) if y_test[i] == 4 and y_pred[i] == 4])\n",
    "FP = sum([1 for i in range(len(y_test)) if y_test[i] == 2 and y_pred[i] == 4])\n",
    "FN = sum([1 for i in range(len(y_test)) if y_test[i] == 4 and y_pred[i] == 2])\n",
    "\n",
    "total = len(y_test)\n",
    "actual_yes = sum([1 for i in range(len(y_test)) if y_test[i] == 4])\n",
    "actual_no = sum([1 for i in range(len(y_test)) if y_test[i] == 2])\n",
    "pred_yes = sum([1 for i in range(len(y_pred)) if y_pred[i] == 4])\n",
    "pred_no = sum([1 for i in range(len(y_pred)) if y_pred[i] == 2])\n",
    "\n",
    "# Accuracy\n",
    "accuracy = round((TP + TN)/total,4)\n",
    "\n",
    "# Misclassification Rate: Overall, how often is it wrong?\n",
    "misc_rate = round((FP+FN)/total,4)\n",
    "\n",
    "# True Positive Rate: When it's actually yes, how often does it predict yes?\n",
    "TP_rate = round(TP/actual_yes,4)\n",
    "\n",
    "# False Positive Rate: When it's actually no, how often does it predict yes?\n",
    "FP_rate = round(FP/actual_no,4)\n",
    "\n",
    "# Specificity: When it's actually no, how often does it predict no? equivalent to 1 minus False Positive Rate\n",
    "specificity = round(TN/actual_no,4)\n",
    "\n",
    "# Precision: When it predicts yes, how often is it correct?\n",
    "precission = round(TP/pred_yes,4)\n",
    "\n",
    "# Prevalence: How often does the yes condition actually occur in our sample?\n",
    "prevalence = round(actual_yes/total,4)\n"
   ]
  },
  {
   "cell_type": "code",
   "execution_count": 16,
   "metadata": {},
   "outputs": [
    {
     "data": {
      "image/png": "[encoded data removed]",
      "text/plain": [
       "<matplotlib.figure.Figure at 0x112ef1e80>"
      ]
     },
     "metadata": {},
     "output_type": "display_data"
    },
    {
     "name": "stdout",
     "output_type": "stream",
     "text": [
      "Total Cases -> 205\n",
      "Total Positive Cases -> 75\n",
      "Total Negative Cases -> 130\n",
      "Accuracy -> 0.9707\n",
      "Misclassification Rate: Overall, how often is it wrong? -> 0.0293\n",
      "True Positive Rate: When its actually yes, how often does it predict yes? -> 0.92\n",
      "False Positive Rate: When its actually no, how often does it predict yes? -> 0.0\n",
      "Specificity: When its actually no, how often does it predict no? equivalent to 1 minus False Positive Rate -> 1.0\n",
      "Prevalence: How often does the yes condition actually occur in our sample? -> 0.3659\n"
     ]
    }
   ],
   "source": [
    "# Display Results\n",
    "np.set_printoptions(precision=2)\n",
    "\n",
    "plt.figure()\n",
    "plt.imshow(cnf_matrix, interpolation='nearest', cmap=plt.cm.Blues)\n",
    "plt.title('Breast Cancer Classification')\n",
    "plt.colorbar()\n",
    "tick_marks = np.arange(2)\n",
    "plt.xticks(tick_marks, ['N', 'P'])\n",
    "plt.yticks(tick_marks, ['N', 'P'])\n",
    "\n",
    "for i, j in it.product(range(cnf_matrix.shape[0]), range(cnf_matrix.shape[1])) :\n",
    "    plt.text(j,i,cnf_matrix[i][j], horizontalalignment=\"center\", color=\"white\" if cnf_matrix[i,j] > cnf_matrix.max()/2 else \"black\")\n",
    "\n",
    "plt.ylabel('True Label')\n",
    "plt.xlabel('Prdicted Label')\n",
    "plt.tight_layout()\n",
    "plt.grid('off')\n",
    "plt.show()\n",
    "\n",
    "# Print results\n",
    "print('Total Cases ->', len(y_test))\n",
    "print('Total Positive Cases ->', actual_yes)\n",
    "print('Total Negative Cases ->', actual_no)\n",
    "print('Accuracy ->', accuracy)\n",
    "print('Misclassification Rate: Overall, how often is it wrong? ->', misc_rate)\n",
    "print('True Positive Rate: When its actually yes, how often does it predict yes? ->', TP_rate)\n",
    "print('False Positive Rate: When its actually no, how often does it predict yes? ->', FP_rate)\n",
    "print('Specificity: When its actually no, how often does it predict no? equivalent to 1 minus False Positive Rate ->', specificity)\n",
    "print('Prevalence: How often does the yes condition actually occur in our sample? ->', prevalence)\n"
   ]
  }
 ],
 "metadata": {
  "kernelspec": {
   "display_name": "Python 3",
   "language": "python",
   "name": "python3"
  },
  "language_info": {
   "codemirror_mode": {
    "name": "ipython",
    "version": 3
   },
   "file_extension": ".py",
   "mimetype": "text/x-python",
   "name": "python",
   "nbconvert_exporter": "python",
   "pygments_lexer": "ipython3",
   "version": "3.6.1"
  }
 },
 "nbformat": 4,
 "nbformat_minor": 2
}
