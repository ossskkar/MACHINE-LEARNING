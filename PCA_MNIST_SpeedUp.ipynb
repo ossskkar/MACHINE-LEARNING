{
 "cells": [
  {
   "cell_type": "code",
   "execution_count": 121,
   "metadata": {
    "collapsed": true
   },
   "outputs": [],
   "source": [
    "# PROJECT: Apply PCA to MNIST dataset to speed up performance in classifier\n",
    "    \n",
    "# The MNIST dataset contains images of handwriten numbers\n",
    "#\n",
    "# Training samples = 60,000\n",
    "# Testing samples = 10,000\n",
    "    "
   ]
  },
  {
   "cell_type": "code",
   "execution_count": 122,
   "metadata": {},
   "outputs": [],
   "source": [
    "# IMPORT PACKAGES\n",
    "from sklearn.datasets import fetch_mldata\n",
    "from sklearn.model_selection import train_test_split\n",
    "from sklearn.preprocessing import StandardScaler\n",
    "from sklearn.decomposition import PCA\n",
    "from sklearn.linear_model import LogisticRegression\n"
   ]
  },
  {
   "cell_type": "code",
   "execution_count": 123,
   "metadata": {},
   "outputs": [],
   "source": [
    "# LOAD DATA\n",
    "mnist = fetch_mldata('MNIST original')\n",
    "\n",
    "# Split data into train/test sets\n",
    "train_img, test_img, train_lbl, test_lbl = train_test_split(\n",
    "    mnist.data, mnist.target, test_size=1/7.0, random_state=0)\n"
   ]
  },
  {
   "cell_type": "code",
   "execution_count": 124,
   "metadata": {},
   "outputs": [
    {
     "name": "stderr",
     "output_type": "stream",
     "text": [
      "/Users/richard/anaconda/lib/python3.6/site-packages/sklearn/utils/validation.py:429: DataConversionWarning: Data with input dtype uint8 was converted to float64 by StandardScaler.\n",
      "  warnings.warn(msg, _DataConversionWarning)\n"
     ]
    }
   ],
   "source": [
    "# STANDARDIZE DATA\n",
    "scaler = StandardScaler()\n",
    "\n",
    "# Fit on train set only\n",
    "scaler.fit(train_img)\n",
    "\n",
    "# Apply transform to both train and test sets\n",
    "train_img = scaler.transform(train_img)\n",
    "test_img = scaler.transform(test_img)\n"
   ]
  },
  {
   "cell_type": "code",
   "execution_count": 125,
   "metadata": {},
   "outputs": [],
   "source": [
    "# APPLY PCA\n",
    "pca = PCA(0.95)\n",
    "\n",
    "# Fit PCA on train set\n",
    "pca.fit(train_img)\n",
    "\n",
    "# Apply transformation to train and test sets\n",
    "train_img = pca.transform(train_img)\n",
    "test_img = pca.transform(test_img)\n"
   ]
  },
  {
   "cell_type": "code",
   "execution_count": 126,
   "metadata": {},
   "outputs": [
    {
     "data": {
      "text/plain": [
       "LogisticRegression(C=1.0, class_weight=None, dual=False, fit_intercept=True,\n",
       "          intercept_scaling=1, max_iter=100, multi_class='ovr', n_jobs=1,\n",
       "          penalty='l2', random_state=None, solver='lbfgs', tol=0.0001,\n",
       "          verbose=0, warm_start=False)"
      ]
     },
     "execution_count": 126,
     "metadata": {},
     "output_type": "execute_result"
    }
   ],
   "source": [
    "# TRAIN LOGISTIC REGRESSION\n",
    "\n",
    "# Make instance of model\n",
    "lr = LogisticRegression(solver='lbfgs')\n",
    "\n",
    "# Train the model\n",
    "lr.fit(train_img, train_lbl)\n"
   ]
  },
  {
   "cell_type": "code",
   "execution_count": 127,
   "metadata": {},
   "outputs": [],
   "source": [
    "# TEST LOGISTIC REGRESSION\n",
    "\n",
    "# Predict one observation\n",
    "test_pred = lr.predict(test_img[0].reshape(1,-1))\n",
    "\n",
    "# Predict multiple observations\n",
    "test_pred = lr.predict(test_img[0:10])\n",
    "\n",
    "# Evaluate performance of model\n",
    "test_score = lr.score(test_img, test_lbl)"
   ]
  },
  {
   "cell_type": "code",
   "execution_count": 128,
   "metadata": {},
   "outputs": [
    {
     "data": {
      "text/plain": [
       "330"
      ]
     },
     "execution_count": 128,
     "metadata": {},
     "output_type": "execute_result"
    }
   ],
   "source": [
    "pca.components_.shape\n",
    "len(pca.explained_variance_ratio_)"
   ]
  },
  {
   "cell_type": "code",
   "execution_count": null,
   "metadata": {
    "collapsed": true
   },
   "outputs": [],
   "source": []
  }
 ],
 "metadata": {
  "kernelspec": {
   "display_name": "Python 3",
   "language": "python",
   "name": "python3"
  },
  "language_info": {
   "codemirror_mode": {
    "name": "ipython",
    "version": 3
   },
   "file_extension": ".py",
   "mimetype": "text/x-python",
   "name": "python",
   "nbconvert_exporter": "python",
   "pygments_lexer": "ipython3",
   "version": "3.6.1"
  }
 },
 "nbformat": 4,
 "nbformat_minor": 2
}
